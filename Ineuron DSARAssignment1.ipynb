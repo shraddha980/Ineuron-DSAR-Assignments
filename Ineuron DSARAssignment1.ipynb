{
 "cells": [
  {
   "cell_type": "markdown",
   "id": "6f386559",
   "metadata": {},
   "source": [
    "1. What are the applications of AI in Transportation? Briefly explain any of the two?"
   ]
  },
  {
   "cell_type": "markdown",
   "id": "f5af1f40",
   "metadata": {},
   "source": [
    "Self-driving Vehicles\n",
    "Smart driver assistants such as self-parking, lane recognition, and adaptive cruise control have become commonplace for many new cars. Some of them, such as Hyundai’s advanced cruise control, have been implemented widely. However, they don’t do the driver’s job completely.\n",
    "\n",
    "Although autonomous vehicles are already a reality, full self-driving is hard to implement and requires a lot of work (and a ridiculous amount of data). Any confusion within real-time data transmission and processing in the vehicles can cause a fatal outcome. Hence, the projects are still not fully ready to run on every road.\n",
    "\n",
    "In Tokyo, while autonomous taxis will be allowed on some roads in spring 2023, Japanese auto giants, such as Toyota Motor and Nissan Motor, have not given a time frame for rolling out cars or services that use AI for self-driving since even their significant resources have not resulted in the necessary advances in sensors and software yet.\n",
    "\n",
    "In the United States, Waymo started to develop self-driving vehicles around 2010, introducing trucks and minivans within a certain number of states for testing on public roads in 2018, but mass production has yet to start.\n",
    "\n",
    "Making autonomous vehicles safe for passengers obviously takes time; still, as technology evolves, self-driving cars will become more reliable and much more widespread. With the help of sensors, cameras, and GPS, artificial intelligence will have a huge effect on public transportation.\n",
    "\n",
    "AI technology can reduce human error rates and monitor safety regulations compliance to decrease driving risks.\n",
    "\n",
    "Pedestrian detection\n",
    "Driving at night is a challenge for many drivers. Since computer systems can automatically identify pedestrians in images and videos, AI-powered cars can significantly improve the situation. In fact, auto-pilots (or, in the future, autonomous vehicles) can allow drivers to sleep/chat without causing any traffic accidents.\n",
    "\n",
    "Pedestrian detection is an issue for Computer Vision and Pattern Recognition because pedestrians can behave unexpectedly, thus, in terms of data, providing multiple edge cases. As a result, these lead to difficulties in behavior prediction, which are among the greatest threats to self-driving cars’ success.\n",
    "Moreover, there are still many other challenges in training data to overcome, including varying lighting parameters and the kinds of poses or clothing that pedestrians display. To overcome these issues, AI requires loads of training data, which will take a long time to obtain."
   ]
  },
  {
   "cell_type": "markdown",
   "id": "3874a2aa",
   "metadata": {},
   "source": [
    "2. What is an example of how AI is changing transportation?"
   ]
  },
  {
   "cell_type": "markdown",
   "id": "6a364e28",
   "metadata": {},
   "source": [
    "Road condition monitoring\n",
    "Pothole damage costs drivers more than $3,000,000,000 per year in the US alone. Unfortunately, despite the best efforts of the driving public to force governments to act, the potholes do not disappear as quickly as desired and seemingly appear overnight.\n",
    "\n",
    "However, computer vision in transportation AI can identify road defects successfully and assess the surrounding infrastructure by spotting changes in the roads’ surface.\n",
    "\n",
    "Computer vision algorithms can identify the level of road damage and alert the relevant authorities for improving road maintenance.\n",
    "\n",
    "The algorithms collect image or video data and then process those data to detect cracks and even classify them automatically. Moreover, these algorithms will soon adapt targeted rehabilitation and automated preventative maintenance techniques, free from human involvement.\n",
    "\n",
    "In other words, Automated Pavement Distress (PD) detection improves road maintenance allocation efficiency while increasing road safety, providing real-time updates for faster repair, and saving time and money."
   ]
  },
  {
   "cell_type": "markdown",
   "id": "b2395b33",
   "metadata": {},
   "source": [
    "3. How is AI helping transportation and logistics corporations?"
   ]
  },
  {
   "cell_type": "markdown",
   "id": "71699118",
   "metadata": {},
   "source": [
    "1. Demand Forecasting in Warehouse Supply and Demand Management \n",
    "This data-rich modeling method is by far the best use case of data science and AI for the supply chain forecasts that empower warehouse employees to make more informed decisions on inventory stocking. \n",
    "\n",
    "2. AI for Vehicle Maintenance Recommendations\n",
    "IoT device data is generated from in-transit vehicles to deliver real-time insights on the longevity of the transport vehicles. The machine learning systems integrated into the vehicles make maintenance recommendations and failure predictions based on past data. This will allow you to take fleeting vehicles out of the chain before the performance issue causes any kind of delay in the deliveries. \n",
    "\n",
    "3. AI in Adding Portability to Supply Chain Loading Process \n",
    "Supply chain management comes with a great deal of detail-oriented analysis, including how shipments and goods are loaded and unloaded from the shipping containers. Both data modeling and AI precision are needed to determine the most efficient ways to get the goods on and off the containers. \n",
    "\n",
    "Modern supply chain companies use a combination of software, hardware, and supply chain data analytics to get hands-on real-time visibility into the loading process. The gathered data can also be used to design less risky and quick process protocols to manage parcels. \n",
    "\n",
    "4. AI for Cost-Saving and Revenue Boost in Supply Chain \n",
    "When it comes to the ultimate cost-saving, AI and analytics solutions are the most effective options to negotiate better shipping and procurement rates, pinpoint changes in the supply chain profit process and manage courier contracts. You can assess a centralized database that takes virtually every aspect of the supply chain to deliver financial decision-making.   \n",
    "\n",
    "In general, advanced analytics in supply chain management is paving the way for new innovations where platforms are used for mining and analyzing cost-effective revenue-building standards. A Bloomberg report suggests that in the past two years, the overall cost in the supply chain has reduced to 12% leading to profits. \n",
    "\n",
    "5. Data Analytics-Based Strategic Sourcing in Supply Chain \n",
    "The most underrated application of AI in supply chain industry is the identification of critical suppliers and strategic partners. This helps you standardize lower-cost alternatives and predicate supply performance indicators for compliance. "
   ]
  },
  {
   "cell_type": "markdown",
   "id": "9f8533e8",
   "metadata": {},
   "source": [
    "4. How AI-Powered robots help in detecting oil sleep?"
   ]
  },
  {
   "cell_type": "markdown",
   "id": "ea08bdfe",
   "metadata": {},
   "source": [
    "rogrammed by dedicated software, the robot operates autonomously to monitor oceans, map deep regions, and analyze changes over time. Slow-moving, it navigates above the ocean floor to detect and analyze natural seeping oil and gas from rock fissures."
   ]
  },
  {
   "cell_type": "markdown",
   "id": "7a6f161f",
   "metadata": {},
   "source": [
    "5. List out the five basic applications of AI in the OIL industry?"
   ]
  },
  {
   "cell_type": "markdown",
   "id": "77ca6f91",
   "metadata": {},
   "source": [
    "#1 Surface Analysis/Geological Assessment\n",
    "AI is proving to be a goldmine for O&G exploration leaders quite literally. For example, ExxonMobil aims to use the deep-sea AI robot to enhance its natural seep detection capabilities. ExxonMobil's AI-powered robots are capable enough to detect these oil seeps, which will eventually reduce exploration risk and subsequent lesser harm to marine life.\n",
    "In Sep 2020, the Wadia Institute of Himalayan Geology (WIHG) discovered a new AI-based technique that helps in analyzing data from seismic waves (natural or induced by explosive material) to determine the geological features beneath the surface, thereby helping in discovering hydrocarbons, like oil and natural gas, in less time with high efficiency. In short, AI platforms are being employed to investigate subsurface geophysical data, accurately mapping underground oil deposits. This process ultimately offers the exact value of the reservoir and makes drilling methods more efficient.\n",
    "\n",
    "#2 Reducing Well/Equipment Downtime\n",
    "Unplanned downtimes cost millions of dollars in a single day to offshore oil and gas platforms in the event of catastrophic asset failures!A case in point is by leveraging AI, one of the major O&G conglomerates enhanced its ability to predict well collapses before they occur, reduce maintenance, efficiently operating the wells, and extending their remaining use of life. How did they do it? The plant's engineers built a traffic light system, which informed them of the upcoming risk of a well collapse. This enabled them to operationalize and put the mechanism in place to reduce downtime. The use of AI-enabled assistants helped the plant reduce the time to revive a well by as much as 83% and the alternative fuel costs by $20,000 per well per day.\n",
    "\n",
    "#3 Optimizing Production and Scheduling\n",
    "OnePetro research highlights that cost and schedule overruns are endemic problems for offshore oil projects. This can be partly attributed to weather delays, resource limitations, and scheduling risks. The complexity of the problem further increases because of the large number of interdependent activities, such as drilling and platform installation, typically involved in the buildup period of oilfield development. It thus becomes imperative to find robust project planning and scheduling models that consider these interacting components and associated risks in offshore oil projects.\n",
    "For instance, an AI-based application enabled operators to preempt electrical submersible pumps (ESPs) failures while optimizing production, states JPT article. Cloud-based platforms provide offshore operators with access to advanced analytics software featuring AI algorithms that analyze incoming data for anomalies, ultimately signal trouble ahead in the monitored equipment.\n",
    "\n",
    "#4 Asset Tracking and Maintenance/Digital Twins\n",
    "Asset management, including its monitoring and maintenance, project planning, and lifecycle management, is one of the most critical areas where digital twin (DT) technology can play a crucial role.In such a scenario, Digital Twins enable oil & gas companies to address challenges, including production imbalances, rapid changes in global economic conditions like the COVID-19 pandemic, and equipment reliability issues.To be responsive in these busy and somewhat chaotic times, oil and gas companies need systems with real-time visibility and flexibility provided with digital twins.\n"
   ]
  },
  {
   "cell_type": "code",
   "execution_count": null,
   "id": "6f0cdf6f",
   "metadata": {},
   "outputs": [],
   "source": []
  }
 ],
 "metadata": {
  "kernelspec": {
   "display_name": "Python 3 (ipykernel)",
   "language": "python",
   "name": "python3"
  },
  "language_info": {
   "codemirror_mode": {
    "name": "ipython",
    "version": 3
   },
   "file_extension": ".py",
   "mimetype": "text/x-python",
   "name": "python",
   "nbconvert_exporter": "python",
   "pygments_lexer": "ipython3",
   "version": "3.10.9"
  }
 },
 "nbformat": 4,
 "nbformat_minor": 5
}
